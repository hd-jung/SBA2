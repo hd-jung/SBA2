{
  "nbformat": 4,
  "nbformat_minor": 0,
  "metadata": {
    "colab": {
      "provenance": [],
      "include_colab_link": true
    },
    "kernelspec": {
      "name": "python3",
      "display_name": "Python 3"
    },
    "language_info": {
      "name": "python"
    }
  },
  "cells": [
    {
      "cell_type": "markdown",
      "metadata": {
        "id": "view-in-github",
        "colab_type": "text"
      },
      "source": [
        "<a href=\"https://colab.research.google.com/github/hd-jung/SBA2/blob/main/1_%ED%95%A8%EC%88%98_2.ipynb\" target=\"_parent\"><img src=\"https://colab.research.google.com/assets/colab-badge.svg\" alt=\"Open In Colab\"/></a>"
      ]
    },
    {
      "cell_type": "markdown",
      "source": [
        "# 함수"
      ],
      "metadata": {
        "id": "1RCd3k2vQuq_"
      }
    },
    {
      "cell_type": "code",
      "execution_count": null,
      "metadata": {
        "id": "BZ2ZF3RvQsAP"
      },
      "outputs": [],
      "source": [
        "def sum(num1, num2):\n",
        "  result = num1 + num2\n",
        "  return result"
      ]
    },
    {
      "cell_type": "code",
      "source": [
        "sum(3,4)"
      ],
      "metadata": {
        "colab": {
          "base_uri": "https://localhost:8080/"
        },
        "id": "tlVN3L-mRxyk",
        "outputId": "7ebd599d-6f4d-4465-ac50-a1e9aef0e6eb"
      },
      "execution_count": null,
      "outputs": [
        {
          "output_type": "execute_result",
          "data": {
            "text/plain": [
              "7"
            ]
          },
          "metadata": {},
          "execution_count": 3
        }
      ]
    },
    {
      "cell_type": "code",
      "source": [
        "# 입력값이 X\n",
        "def say():\n",
        "  return 'Hi'\n",
        "say()"
      ],
      "metadata": {
        "colab": {
          "base_uri": "https://localhost:8080/",
          "height": 35
        },
        "id": "H9HmyuxdSRV-",
        "outputId": "264f82c6-2e63-4ade-ad75-63445e5a8dd4"
      },
      "execution_count": null,
      "outputs": [
        {
          "output_type": "execute_result",
          "data": {
            "text/plain": [
              "'Hi'"
            ],
            "application/vnd.google.colaboratory.intrinsic+json": {
              "type": "string"
            }
          },
          "metadata": {},
          "execution_count": 4
        }
      ]
    },
    {
      "cell_type": "code",
      "source": [
        "def sum2(num1, num2):\n",
        "  print(num1+num2)\n",
        "\n",
        "a = sum(3,4)\n",
        "b = sum2(3,4)"
      ],
      "metadata": {
        "colab": {
          "base_uri": "https://localhost:8080/"
        },
        "id": "J0A4ptUzSlpM",
        "outputId": "bea02a95-2671-4405-e3f1-0047176391d4"
      },
      "execution_count": null,
      "outputs": [
        {
          "output_type": "stream",
          "name": "stdout",
          "text": [
            "7\n"
          ]
        }
      ]
    },
    {
      "cell_type": "code",
      "source": [
        "print(a)\n",
        "print(b)"
      ],
      "metadata": {
        "colab": {
          "base_uri": "https://localhost:8080/"
        },
        "id": "Tydf4NJhTTZz",
        "outputId": "4154401c-27b4-4c90-b63c-5f43a2c3fd23"
      },
      "execution_count": null,
      "outputs": [
        {
          "output_type": "stream",
          "name": "stdout",
          "text": [
            "7\n",
            "None\n"
          ]
        }
      ]
    },
    {
      "cell_type": "code",
      "source": [
        "sum(3, 4)\n",
        "sum(num1 = 3, num2 = 4)"
      ],
      "metadata": {
        "colab": {
          "base_uri": "https://localhost:8080/"
        },
        "id": "JIvUHd91UfLX",
        "outputId": "52f7977c-8691-42c5-e0cf-db8a71f91f33"
      },
      "execution_count": null,
      "outputs": [
        {
          "output_type": "execute_result",
          "data": {
            "text/plain": [
              "7"
            ]
          },
          "metadata": {},
          "execution_count": 9
        }
      ]
    },
    {
      "cell_type": "code",
      "source": [
        "def say_myself(name, old, man = True):\n",
        "  print(f'나의 이름은 {name}입니다.')\n",
        "  print(f'나의 나이는 {old}입니다.')\n",
        "  if man:\n",
        "    print('남자입니다.')\n",
        "  else:\n",
        "    print('여자입니다.')\n",
        "\n",
        "say_myself('홍길동', 20)\n",
        "say_myself('박명수', 55, True)\n",
        "say_myself('박명순', 55, False)\n",
        "say_myself(old = 10, name = '뽀로로')"
      ],
      "metadata": {
        "colab": {
          "base_uri": "https://localhost:8080/"
        },
        "id": "QOT7BbYFVS8D",
        "outputId": "2e602023-3111-4103-ff3c-4ede1151eaea"
      },
      "execution_count": null,
      "outputs": [
        {
          "output_type": "stream",
          "name": "stdout",
          "text": [
            "나의 이름은 홍길동입니다.\n",
            "나의 나이는 20입니다.\n",
            "남자입니다.\n",
            "나의 이름은 박명수입니다.\n",
            "나의 나이는 55입니다.\n",
            "남자입니다.\n",
            "나의 이름은 박명순입니다.\n",
            "나의 나이는 55입니다.\n",
            "여자입니다.\n",
            "나의 이름은 뽀로로입니다.\n",
            "나의 나이는 10입니다.\n",
            "남자입니다.\n"
          ]
        }
      ]
    },
    {
      "cell_type": "markdown",
      "source": [
        "## 전역변수 vs 지역변수\n",
        "- 전역변수 : 함수 외부에서 선언 된 변수이며 프로그램 전체에서 사용 가능하다.\n",
        "- 지역변수 : 함수 내부에서 선언 된 변수이며 해당 함수 내부에서만 사용할 수 있다."
      ],
      "metadata": {
        "id": "mYiv6IdKXPAf"
      }
    },
    {
      "cell_type": "code",
      "source": [
        "def test():\n",
        "  local_var = 20 # 지역변수\n",
        "test()\n"
      ],
      "metadata": {
        "id": "ekPFpNLNXH2i"
      },
      "execution_count": 1,
      "outputs": []
    },
    {
      "cell_type": "code",
      "source": [
        "def test2():\n",
        "  local_var = 20\n",
        "  return local_var\n",
        "a = test2()\n",
        "print(a)\n"
      ],
      "metadata": {
        "colab": {
          "base_uri": "https://localhost:8080/"
        },
        "id": "txldPQbNYlki",
        "outputId": "3f4740b0-2be3-42b1-ad51-c60258413463"
      },
      "execution_count": 2,
      "outputs": [
        {
          "output_type": "stream",
          "name": "stdout",
          "text": [
            "20\n"
          ]
        }
      ]
    },
    {
      "cell_type": "code",
      "source": [
        "def test3():\n",
        "  global local_var # global 변수로 선언해주면 함수 밖에서도 쓸 수 있다.\n",
        "  local_var = 20\n",
        "test3()\n",
        "print(local_var)\n",
        "local_var = 60\n",
        "print(local_var)"
      ],
      "metadata": {
        "colab": {
          "base_uri": "https://localhost:8080/"
        },
        "id": "iP-veElrYrqv",
        "outputId": "881df158-db89-4f6e-9c01-b76a068c0050"
      },
      "execution_count": 4,
      "outputs": [
        {
          "output_type": "stream",
          "name": "stdout",
          "text": [
            "20\n",
            "60\n"
          ]
        }
      ]
    }
  ]
}